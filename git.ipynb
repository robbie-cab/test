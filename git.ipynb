{
 "cells": [
  {
   "cell_type": "markdown",
   "metadata": {
    "slideshow": {
     "slide_type": "slide"
    }
   },
   "source": [
    "# Git\n",
    "## Better version control"
   ]
  },
  {
   "cell_type": "markdown",
   "metadata": {
    "slideshow": {
     "slide_type": "slide"
    }
   },
   "source": [
    "<img src=\"versions.png\" alt=\"drawing\" width=\"400\"/>\n"
   ]
  },
  {
   "cell_type": "markdown",
   "metadata": {
    "slideshow": {
     "slide_type": "slide"
    }
   },
   "source": [
    "# Why use Git?\n",
    "\n",
    "- Better backup\n",
    "- Review history\n",
    "- Restore old versions\n",
    "- Maintain several versions\n",
    "- Collaborate\n",
    "\n",
    "Git is a version control system to manage source code history. GitLab/GitHub… are hosting services for git repositories."
   ]
  },
  {
   "cell_type": "markdown",
   "metadata": {
    "slideshow": {
     "slide_type": "slide"
    }
   },
   "source": [
    "# Command line navigation\n",
    "\n",
    "- `pwd` : show path to current directory\n",
    "- `ls` : list files and directories held within current directory\n",
    "- `ls <directory name>` : list everything in specified directory\n",
    "- `cd <directory name>` : enter a directory\n",
    "- `cd ..` : move up a directory\n",
    "- `mkdir <new directory name>` : create a new directory\n",
    "- `cat <file name>` : show contents of a file\n",
    "- `mv <oldfile> <newfile>` : move or rename file\n",
    "\n",
    "*Pressing tab will autocomplete commands and file names – use it!"
   ]
  },
  {
   "cell_type": "markdown",
   "metadata": {
    "slideshow": {
     "slide_type": "subslide"
    }
   },
   "source": [
    "### We will now attempt to create a new file...\n",
    "\n",
    "1. Navigate back to your home directory (shortcut `cd ~`)\n",
    "2. Create a new dir in your home dir called `code`\n",
    "3. Enter that directory\n",
    "4. Create a directory inside of that called `git_training`, and enter that.\n",
    "4. Create a file by typing `nano newfile.txt`\n",
    "\n",
    "This will bring up an interface for nano, which is a command line text editor. \n",
    "\n",
    "Type in one of your favourite facts, then follow the instructions at the bottom of the window to save and exit. \n",
    "\n",
    "Once you are back to the command prompt, check you were successful with `ls` and `cat`."
   ]
  },
  {
   "cell_type": "markdown",
   "metadata": {
    "slideshow": {
     "slide_type": "fragment"
    }
   },
   "source": [
    "It is now presumed you can create and view simple text files and move around a directory tree.\n",
    "\n",
    "Practice makes perfect."
   ]
  },
  {
   "cell_type": "markdown",
   "metadata": {
    "slideshow": {
     "slide_type": "slide"
    }
   },
   "source": [
    "<img src=\"simple_git.png\" alt=\"drawing\" width=\"400\"/>\n"
   ]
  },
  {
   "cell_type": "markdown",
   "metadata": {
    "slideshow": {
     "slide_type": "subslide"
    }
   },
   "source": [
    "<img src=\"complicated_git.png\" alt=\"drawing\" width=\"400\"/>\n"
   ]
  },
  {
   "cell_type": "markdown",
   "metadata": {
    "slideshow": {
     "slide_type": "slide"
    }
   },
   "source": [
    "# Beginner Git\n",
    "\n",
    "We will take your newly created `git_training` directory and make it into a git repository\n",
    "\n",
    "1. `git init`: tell git to track the content of this folder as a git repository\n",
    "2. `git status`: tells us which files are tracked, untracked and ready to be commited.\n",
    "3. `git add <filename.txt>`: tells git this file is important and we would like to keep track of its history\n",
    "4. `git commit -m 'a relevant message about the changes made'`\n",
    "\n",
    "Now try typing `git status` again, see what has changed?\n",
    "\n",
    "Finally: `git log` will show you a history of all changes made\n",
    "\n",
    "---\n",
    "\n",
    "Now, make a change to your text file - this time write something that isn't true - and then commit this change"
   ]
  },
  {
   "cell_type": "markdown",
   "metadata": {
    "slideshow": {
     "slide_type": "subslide"
    }
   },
   "source": [
    "You must first 'stage' files to be commited. So we can add the file with changes, then make the commit with a message.\n",
    "\n",
    "![git_commands](git_commands.png)\n",
    "\n",
    "Once you have commited this change to the file try typing:\n",
    "\n",
    "`git log --oneline` \n",
    "\n",
    "You can now start to see the beginning of a changelog and edit history."
   ]
  },
  {
   "cell_type": "markdown",
   "metadata": {
    "slideshow": {
     "slide_type": "subslide"
    }
   },
   "source": [
    "# Undoing mistakes\n",
    "\n",
    "Lets go back to when our files were all true. \n",
    "\n",
    "## Revert\n",
    "\n",
    "Copy the hash from the commit which you want to go back to:\n",
    "\n",
    "`git revert <hash>`\n",
    "\n",
    "Look at the log and see how all mistakes have been recorded\n",
    "\n",
    "## Reset\n",
    "\n",
    "This is not best practice, dangerous and scary. But for minor typos you may want to rewrite history and have a clean log. Using the same hash, type:\n",
    "\n",
    "`git reset --hard <has>` \n",
    "\n",
    "Look at the log to see that now, the mean things were never written."
   ]
  },
  {
   "cell_type": "markdown",
   "metadata": {
    "slideshow": {
     "slide_type": "slide"
    }
   },
   "source": [
    "# Publish!\n",
    "\n",
    "GitHub and GitLab are similar services that host a remote git repository. This allows a team or community to share and contribute to the same code base.\n",
    "\n",
    "### GitLab\n",
    "\n",
    "You will need your GitLab username and Personal Access Token token.\n",
    "\n",
    "To create a new repository with your files:\n",
    "\n",
    "`git push --set-upstream https://oauth2:<PAT>@gitlab.com/<your_username>/<your_project_name>.git master`\n",
    "\n",
    "### GitHub\n",
    "\n",
    "After this first push, you will only need to type `git push`.\n",
    "\n",
    "Did it work?? Can you find it online??"
   ]
  },
  {
   "cell_type": "markdown",
   "metadata": {
    "slideshow": {
     "slide_type": "subslide"
    }
   },
   "source": [
    "## Play around with the online repository\n",
    "\n",
    "Edit the file on GitLab, and pull the changes with `git pull`. How does this affect the log?\n",
    "\n",
    "### Create a clash\n",
    "\n",
    "- Break into pairs\n",
    "- Make your partner a member of your repository (give them developer permissions)\n",
    "- Get them to clone your repository `git clone <url>`\n",
    "- Both edit the same file\n",
    "- Commit the changes.\n",
    "- One person push their changes and the other tries to pull these changes to their local machine\n",
    "\n",
    "or\n",
    "\n",
    "- Commit an edit online\n",
    "- commit a different edit on your local file (in the same place but different)\n",
    "- Then try and pull the other changes down\n",
    "\n",
    "This should raise a CONFLICT error, why has this happened?"
   ]
  },
  {
   "cell_type": "markdown",
   "metadata": {
    "slideshow": {
     "slide_type": "subslide"
    }
   },
   "source": [
    "# Fixing conflicts \n",
    "\n",
    "Git status will show you where there were conflics. Git pull tries to auto merge branches but will not do so if the same part of the file has been edited seperately.\n",
    "\n",
    "Find the file with conflicts and the two versions should be highlighted by some >>>>>> ====== <<<<<<< marked by the commit hash they belong to.\n",
    "\n",
    "Decide which one you want to keep, remove the markings and commit your changes.\n",
    "\n",
    "Now try:\n",
    "\n",
    "`git log --graph` \n",
    "\n",
    "to see what you have done."
   ]
  },
  {
   "cell_type": "markdown",
   "metadata": {
    "slideshow": {
     "slide_type": "subslide"
    }
   },
   "source": [
    "![git_commands](git_commands2.png)"
   ]
  },
  {
   "cell_type": "markdown",
   "metadata": {
    "slideshow": {
     "slide_type": "slide"
    }
   },
   "source": [
    "## ...there is much much more \n",
    "\n",
    "- `git tag 0.0.1 <hash>`\n",
    "- `git branch`\n",
    "- `git checkout -b <new_branch_name>`"
   ]
  },
  {
   "cell_type": "markdown",
   "metadata": {
    "slideshow": {
     "slide_type": "fragment"
    }
   },
   "source": [
    "There are often several different ways of achieving the same thing with git. \n",
    "https://learngitbranching.js.org"
   ]
  },
  {
   "cell_type": "markdown",
   "metadata": {
    "slideshow": {
     "slide_type": "subslide"
    }
   },
   "source": [
    "<img src=\"git_xkcd.png\" alt=\"drawing\" width=\"300\"/>\n"
   ]
  }
 ],
 "metadata": {
  "celltoolbar": "Slideshow",
  "kernelspec": {
   "display_name": "Python 3",
   "language": "python",
   "name": "python3"
  },
  "language_info": {
   "codemirror_mode": {
    "name": "ipython",
    "version": 3
   },
   "file_extension": ".py",
   "mimetype": "text/x-python",
   "name": "python",
   "nbconvert_exporter": "python",
   "pygments_lexer": "ipython3",
   "version": "3.8.8"
  }
 },
 "nbformat": 4,
 "nbformat_minor": 2
}
