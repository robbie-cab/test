{
 "cells": [
  {
   "cell_type": "markdown",
   "metadata": {
    "slideshow": {
     "slide_type": "slide"
    }
   },
   "source": [
    "# Git\n",
    "## Better version control"
   ]
  },
  {
   "cell_type": "markdown",
   "metadata": {
    "slideshow": {
     "slide_type": "slide"
    }
   },
   "source": [
    "<img src=\"versions.png\" alt=\"drawing\" width=\"400\"/>\n"
   ]
  },
  {
   "cell_type": "markdown",
   "metadata": {
    "slideshow": {
     "slide_type": "slide"
    }
   },
   "source": [
    "# Why use Git?\n",
    "\n",
    "- Better backup\n",
    "- Review history\n",
    "- Restore old versions\n",
    "- Maintain several versions\n",
    "- Collaborate\n",
    "\n",
    "Git is a version control system to manage source code history. GitLab/GitHub… are hosting services for git repositories."
   ]
  },
  {
   "cell_type": "markdown",
   "metadata": {
    "slideshow": {
     "slide_type": "slide"
    }
   },
   "source": [
    "# Command line navigation\n",
    "\n",
    "- `pwd` : show path to current directory\n",
    "- `ls` : list files and directories held within current directory\n",
    "- `ls <directory name>` : list everything in specified directory\n",
    "- `cd <directory name>` : enter a directory\n",
    "- `cd ..` : move up a directory\n",
    "- `mkdir <new directory name>` : create a new directory\n",
    "- `cat <file name>` : show contents of a file\n",
    "- `mv <oldfile> <newfile>` : move or rename file\n",
    "\n",
    "*Pressing tab will autocomplete commands and file names – use it!"
   ]
  },
  {
   "cell_type": "markdown",
   "metadata": {
    "slideshow": {
     "slide_type": "subslide"
    }
   },
   "source": [
    "### We will now attempt to create a new file...\n",
    "\n",
    "1. Navigate back to your home directory (shortcut `cd ~`)\n",
    "2. Create a new dir in your home dir called `code`\n",
    "3. Enter that directory\n",
    "4. Create a directory inside of that called `git_training`, and enter that.\n",
    "4. Create a file by typing `nano newfile.txt`\n",
    "\n",
    "This will bring up an interface for nano, which is a command line text editor. \n",
    "\n",
    "Type in one of your favourite facts, then follow the instructions at the bottom of the window to save and exit. \n",
    "\n",
    "Once you are back to the command prompt, check you were successful with `ls` and `cat`."
   ]
  },
  {
   "cell_type": "markdown",
   "metadata": {
    "slideshow": {
     "slide_type": "fragment"
    }
   },
   "source": [
    "It is now presumed you can create and view simple text files and move around a directory tree.\n",
    "\n",
    "Practice makes perfect."
   ]
  },
  {
   "cell_type": "markdown",
   "metadata": {
    "slideshow": {
     "slide_type": "slide"
    }
   },
   "source": [
    "<img src=\"simple_git.png\" alt=\"drawing\" width=\"400\"/>\n"
   ]
  },
  {
   "cell_type": "markdown",
   "metadata": {
    "slideshow": {
     "slide_type": "subslide"
    }
   },
   "source": [
    "<img src=\"complicated_git.png\" alt=\"drawing\" width=\"400\"/>\n"
   ]
  },
  {
   "cell_type": "markdown",
   "metadata": {
    "slideshow": {
     "slide_type": "slide"
    }
   },
   "source": [
    "# Beginner Git\n",
    "\n",
    "We will take your newly created `git_training` directory and make it into a git repository\n",
    "\n",
    "1. `git init`: tell git to track the content of this folder as a git repository\n",
    "2. `git status`: tells us which files are tracked, untracked and ready to be commited.\n",
    "3. `git add <filename.txt>`: tells git this file is important and we would like to keep track of its history\n",
    "4. `git commit -m 'a relevant message about the changes made'`\n",
    "\n",
    "Now try typing `git status` again, see what has changed?\n",
    "\n",
    "Finally: `git log` will show you a history of all changes made\n",
    "\n",
    "---\n",
    "\n",
    "Now, make a change to your text file - this time write something that isn't true - and then commit this change"
   ]
  },
  {
   "cell_type": "markdown",
   "metadata": {
    "slideshow": {
     "slide_type": "subslide"
    }
   },
   "source": [
    "You must first 'stage' files to be commited. So we can add the file with changes, then make the commit with a message.\n",
    "\n",
    "![git_commands](git_commands.png)\n",
    "\n",
    "Once you have commited this change to the file try typing:\n",
    "\n",
    "`git log --oneline` \n",
    "\n",
    "You can now start to see the beginning of a changelog and edit history."
   ]
  },
  {
   "cell_type": "markdown",
   "metadata": {
    "slideshow": {
     "slide_type": "subslide"
    }
   },
   "source": [
    "# Undoing mistakes\n",
    "\n",
    "Lets go back to when our files were all true. \n",
    "\n",
    "## Revert\n",
    "\n",
    "Copy the hash from the commit which you want to go back to:\n",
    "\n",
    "`git revert <hash>`\n",
    "\n",
    "Look at the log and see how all mistakes have been recorded\n",
    "\n",
    "## Reset\n",
    "\n",
    "This is not best practice, dangerous and scary. But for minor typos you may want to rewrite history and have a clean log. Using the same hash, type:\n",
    "\n",
    "`git reset --hard <hash>` \n",
    "\n",
    "Look at the log to see that now, the mean things were never written. You will never be able to retrive that version!"
   ]
  },
  {
   "cell_type": "markdown",
   "metadata": {
    "slideshow": {
     "slide_type": "slide"
    }
   },
   "source": [
    "# Publish!\n",
    "\n",
    "GitHub and GitLab are similar services that host a remote git repository. This allows a team or community to share and contribute to the same code base.\n",
    "\n",
    "By default, these repositories will be public. However all civil service work should use a private repository unless permission is given. \n",
    "\n",
    "Our GitLab work is conducted in the c19-add group. We can easily add new contributors to this group.\n",
    "\n",
    "Our Github work uses the `cabinetoffice` organisation. We need permission to add new contributors here."
   ]
  },
  {
   "cell_type": "markdown",
   "metadata": {
    "slideshow": {
     "slide_type": "subslide"
    }
   },
   "source": [
    "## Create a remote repository\n",
    "\n",
    "### GitLab\n",
    "\n",
    "You will need your GitLab username and Personal Access Token token.\n",
    "\n",
    "To create a new repository with your files:\n",
    "\n",
    "`git push --set-upstream https://oauth2:<PAT>@gitlab.com/<your_username>/<your_project_name>.git master`\n",
    "\n",
    "After this first push, you will only need to type `git push`.\n",
    "\n",
    "### GitHub\n",
    "\n",
    "To contribute to our GitHub projects you will need access to the Cabinet Office github. For this tutorial we will just create a public repository.\n",
    "\n",
    "- Go to your account page `https://github.com/<username>`\n",
    "\n",
    "- Click repositories -> New -> name it `git_training` and create\n",
    "\n",
    "- On your command line: `git remote add origin git@github.com:<username>/git_training.git`\n",
    "\n",
    "- `git push` (follow instructions in the terminal)\n",
    "\n",
    "\n",
    "Did it work?? Can you find it online??"
   ]
  },
  {
   "cell_type": "markdown",
   "metadata": {
    "slideshow": {
     "slide_type": "subslide"
    }
   },
   "source": [
    "## Play around with the online repository\n",
    "\n",
    "Edit the file on GitLab, and pull the changes with `git pull`. How does this affect the log?\n",
    "\n",
    "### Create a clash\n",
    "\n",
    "- Break into pairs\n",
    "- Make your partner a member of your repository (give them developer permissions)\n",
    "- Get them to clone your repository `git clone <url>`\n",
    "- Both edit the same file\n",
    "- Commit the changes.\n",
    "- One person push their changes and the other tries to pull these changes to their local machine\n",
    "\n",
    "or\n",
    "\n",
    "- Commit an edit online\n",
    "- commit a different edit on your local file (in the same place but different)\n",
    "- Then try and pull the other changes down\n",
    "\n",
    "This should raise a CONFLICT error, why has this happened?"
   ]
  },
  {
   "cell_type": "markdown",
   "metadata": {
    "slideshow": {
     "slide_type": "subslide"
    }
   },
   "source": [
    "# Fixing conflicts \n",
    "\n",
    "Git status will show you where there were conflics. Git pull tries to auto merge branches but will not do so if the same part of the file has been edited seperately.\n",
    "\n",
    "Find the file with conflicts and the two versions should be highlighted by some >>>>>> ====== <<<<<<< marked by the commit hash they belong to.\n",
    "\n",
    "Decide which one you want to keep, remove the markings and commit your changes.\n",
    "\n",
    "Now try:\n",
    "\n",
    "`git log --graph` \n",
    "\n",
    "to see what you have done."
   ]
  },
  {
   "cell_type": "markdown",
   "metadata": {
    "slideshow": {
     "slide_type": "subslide"
    }
   },
   "source": [
    "![git_commands](git_commands2.png)"
   ]
  },
  {
   "cell_type": "markdown",
   "metadata": {
    "slideshow": {
     "slide_type": "slide"
    }
   },
   "source": [
    "# Branching\n",
    "\n",
    "Git branching allows developers to diverge from the main line of development and continue to do work without messing with that main line. This is commonly used to work on a bug fix or create a new feature. \n",
    "\n",
    "The changes made in these branches can be 'merged' back into the main branch once finished. \n",
    "\n",
    "If you have a new feature branch you want added to the project, you can open a `pull request` (GitHub) or `merge request` (GitLab), and someone else can review your changes before merging. This is the main way we perform QA within our team.\n",
    "\n",
    "Some basic commands \n",
    "1. `git branch`: see active branches in your repository, with the current branch highlighted\n",
    "2. `git checkout -b <new-branch-name>`: create a new branch\n",
    "3. `git checkout <branch>`: switch between branches\n",
    "\n",
    "Try creating a new branch, commiting some changes, then switching between the two versions using `checkout`."
   ]
  },
  {
   "cell_type": "markdown",
   "metadata": {
    "slideshow": {
     "slide_type": "subslide"
    }
   },
   "source": [
    "You can review the difference between branches (or any commit) using `git diff`\n",
    "\n",
    "- `git diff`: difference between working directory and staging area\n",
    "- `git diff <path-to-file>`: show difference made to a file\n",
    "- `git diff <ref>`: difference between working directory and a commit. `ref` could be `HEAD`, a branch name or commit hash"
   ]
  },
  {
   "cell_type": "markdown",
   "metadata": {
    "slideshow": {
     "slide_type": "subslide"
    }
   },
   "source": [
    "## Combining changes\n",
    "\n",
    "### Using merge\n",
    "\n",
    "Supose we want to add a new `feature` to the `main` branch. The situation may look something like this:\n",
    "```\n",
    "\t  A---B---C HEAD->feature\n",
    "\t /\n",
    "D---E main\n",
    "```\n",
    "Each letter in this diagram represents a commit. `HEAD` is telling us where we are currently working.\n",
    "\n",
    "We can add these changes in using the following commands\n",
    "\n",
    "`$ git checkout main`\n",
    "\n",
    "`$ git merge feature`\n",
    "\n",
    "The log will now look like:\n",
    "```\n",
    "D---E---A---B---C HEAD->main\n",
    "```\n",
    "Our new feature is in main."
   ]
  },
  {
   "cell_type": "markdown",
   "metadata": {
    "slideshow": {
     "slide_type": "subslide"
    }
   },
   "source": [
    "Now imagine a more complicated situation where changes have been made to both branches\n",
    "```\n",
    "          A---B---C feature\n",
    "         /\n",
    "    D---E---F---G HEAD->main\n",
    "```\n",
    "`$ git merge feature`\n",
    "```\n",
    "          A---B---C \n",
    "         /         \\\n",
    "    D---E---F---G---H HEAD->main\n",
    "```\n",
    "\n",
    "A new commit `H` has been created, as this is a new state of code that didn't exist before, it may contain edits to resolve conflicts between the two branches."
   ]
  },
  {
   "cell_type": "markdown",
   "metadata": {
    "slideshow": {
     "slide_type": "subslide"
    }
   },
   "source": [
    "### Using rebase\n",
    "\n",
    "To avoid complicated branching histories we can use rebase, using the previous example:\n",
    "```\n",
    "          A---B---C HEAD->feature\n",
    "         /\n",
    "    D---E---F---G main\n",
    "```\n",
    "`$ git rebase main`\n",
    "```\n",
    "                  A'---B'---C' HEAD->feature\n",
    "                 /\n",
    "    D---E---F---G main\n",
    "```\n",
    "We have rebased the current branch to create a linear history. Three new commits have been created (labeled with a dash) as the code in those places did not exist before. In this way we are somewhat rewriting history.\n",
    "\n",
    "To combine changes we can then simply:\n",
    "\n",
    "`$ git checkout main`\n",
    "\n",
    "`$ git merge feature`\n",
    "\n",
    "```\n",
    "    D---E---F---G---A'---B'---C' HEAD->main\n",
    "```"
   ]
  },
  {
   "cell_type": "markdown",
   "metadata": {
    "slideshow": {
     "slide_type": "slide"
    }
   },
   "source": [
    "# GitFlow\n",
    "\n",
    "Gitflow is just an abstract workflow for collaborative coding. Using the principles described above, it revolves around a main, development and feature branches, with testing and reviewed merging baked in.\n",
    "\n",
    "![gitflow](gitflow.png)"
   ]
  },
  {
   "cell_type": "markdown",
   "metadata": {
    "slideshow": {
     "slide_type": "subslide"
    }
   },
   "source": [
    "Development of the Data Assets Catalogue (DAC) uses GitFlow and is hosted on GitHub.\n",
    "\n",
    "There are two permenant branhces, `main` which runs the production environment, and `develop` which feeds the development site.\n",
    "\n",
    "To contribute to DAC:\n",
    "- make your changes on a new feature branch \n",
    "- rebase to develop\n",
    "- Open a pull request (PR), this automatically will run some tests that your version must pass\n",
    "- Someone must then review and approve your changes before they can be merged into `develop`\n",
    "- Periodically, one of the developers will 'deploy', which merges `develop` into `main` and publishes to the production site"
   ]
  },
  {
   "cell_type": "markdown",
   "metadata": {
    "slideshow": {
     "slide_type": "subslide"
    }
   },
   "source": [
    "A typical workflow may look like:\n",
    "\n",
    "1. Make a new branch\n",
    "```\n",
    "$ git checkout develop \n",
    "$ git pull # check for updates\n",
    "$ git checkout feature/vax_status\n",
    "```\n",
    "2. Make your changes\n",
    "```\n",
    "$ git add charts/vac_status.py\n",
    "$ git commit -m 'add new chart'\n",
    "... make more commits\n",
    "```\n",
    "3. Review and test your changes and push\n",
    "```\n",
    "$ invoke tidy # if neccesary (black, isort, flake8)\n",
    "$ git rebase develop\n",
    "$ git push\n",
    "```\n",
    "4. Go to the DAC github and open a pull request for the new branch `feature/vac_status`\n",
    "5. Check the tests pass\n",
    "6. Ask someone to review it\n",
    "7. If neccesary, make more changes to your local branch and push them again\n",
    "8. Merge to develop\n"
   ]
  },
  {
   "cell_type": "markdown",
   "metadata": {
    "slideshow": {
     "slide_type": "slide"
    }
   },
   "source": [
    "# ...there is much more\n",
    "\n",
    "There are often several different ways of achieving the same thing with git, which can make it confusing.\n",
    "\n",
    "https://learngitbranching.js.org is a interactive tutorial that visualises what all the commands do and shows how to interact with branching projects."
   ]
  },
  {
   "cell_type": "markdown",
   "metadata": {
    "slideshow": {
     "slide_type": "subslide"
    }
   },
   "source": [
    "<img src=\"git_xkcd.png\" alt=\"drawing\" width=\"300\"/>\n"
   ]
  }
 ],
 "metadata": {
  "celltoolbar": "Slideshow",
  "kernelspec": {
   "display_name": "Python 3",
   "language": "python",
   "name": "python3"
  },
  "language_info": {
   "codemirror_mode": {
    "name": "ipython",
    "version": 3
   },
   "file_extension": ".py",
   "mimetype": "text/x-python",
   "name": "python",
   "nbconvert_exporter": "python",
   "pygments_lexer": "ipython3",
   "version": "3.8.8"
  }
 },
 "nbformat": 4,
 "nbformat_minor": 2
}
